{
 "cells": [
  {
   "cell_type": "code",
   "execution_count": 1,
   "metadata": {},
   "outputs": [],
   "source": [
    "import gym\n",
    "import numpy as np\n",
    "import random\n",
    "import time\n",
    "from IPython.display import clear_output\n",
    "import tensorflow as tf"
   ]
  },
  {
   "cell_type": "code",
   "execution_count": 2,
   "metadata": {},
   "outputs": [
    {
     "name": "stdout",
     "output_type": "stream",
     "text": [
      "[[0. 0. 0. 0.]\n",
      " [0. 0. 0. 0.]\n",
      " [0. 0. 0. 0.]\n",
      " [0. 0. 0. 0.]\n",
      " [0. 0. 0. 0.]\n",
      " [0. 0. 0. 0.]\n",
      " [0. 0. 0. 0.]\n",
      " [0. 0. 0. 0.]\n",
      " [0. 0. 0. 0.]\n",
      " [0. 0. 0. 0.]\n",
      " [0. 0. 0. 0.]\n",
      " [0. 0. 0. 0.]\n",
      " [0. 0. 0. 0.]\n",
      " [0. 0. 0. 0.]\n",
      " [0. 0. 0. 0.]\n",
      " [0. 0. 0. 0.]]\n"
     ]
    }
   ],
   "source": [
    "env = gym.make(\"FrozenLake-v0\")\n",
    "action_space_size = env.action_space.n\n",
    "state_space_size = env.observation_space.n\n",
    "q_table = np.zeros((state_space_size, action_space_size))\n",
    "print(q_table)"
   ]
  },
  {
   "cell_type": "code",
   "execution_count": 4,
   "metadata": {
    "scrolled": true
   },
   "outputs": [],
   "source": []
  },
  {
   "cell_type": "code",
   "execution_count": 8,
   "metadata": {
    "scrolled": false
   },
   "outputs": [],
   "source": [
    "num_episodes = 10000\n",
    "max_steps_per_episode = 100\n",
    "\n",
    "learning_rate = 0.1\n",
    "discount_rate = 0.99\n",
    "exploration_rate = 1\n",
    "max_exploration_rate = 1\n",
    "min_exploration_rate = 0.01\n",
    "exploration_decay_rate = 0.001\n",
    "\n",
    "rewards_all_episodes = []\n",
    "# Q-Learning Algorithm\n",
    "config = tf.ConfigProto(log_device_placement = True)\n",
    "config.gpu_options.allow_growth=True\n",
    "sess = tf.Session(config=config)\n",
    "with tf.device('/gpu:0'):\n",
    "    for episode in range(num_episodes):\n",
    "        state = env.reset()\n",
    "        done = False\n",
    "        rewards_current_episode = 0\n",
    "\n",
    "        for step in range(max_steps_per_episode):\n",
    "            #Exploration-exploitation trade-off\n",
    "            exploration_rate_threshold = random.uniform(0,1)\n",
    "            if exploration_rate_threshold > exploration_rate:\n",
    "                action = np.argmax(q_table[state,:])\n",
    "            else:\n",
    "                action = env.action_space.sample()\n",
    "            new_state,reward, done,info = env.step(action)\n",
    "\n",
    "            #Update Q-table for Q(s,a)\n",
    "            q_table[state, action] = q_table[state, action]*(1-learning_rate) + \\\n",
    "                                     (reward + \\\n",
    "                                      discount_rate*np.max(q_table[new_state,:]))*learning_rate\n",
    "            state = new_state\n",
    "            rewards_current_episode += reward\n",
    "            if done == True:\n",
    "                break\n",
    "        #exploration Rate Decay\n",
    "        exploration_rate = min_exploration_rate + \\\n",
    "                       (max_exploration_rate - min_exploration_rate)*np.exp(-exploration_decay_rate*episode)      \n",
    "        rewards_all_episodes.append(rewards_current_episode)\n"
   ]
  },
  {
   "cell_type": "code",
   "execution_count": 9,
   "metadata": {},
   "outputs": [
    {
     "name": "stdout",
     "output_type": "stream",
     "text": [
      "********Average reward per thousand episodes********\n",
      "\n",
      "1000 :  0.05000000000000004\n",
      "2000 :  0.19900000000000015\n",
      "3000 :  0.4150000000000003\n",
      "4000 :  0.5620000000000004\n",
      "5000 :  0.6330000000000005\n",
      "6000 :  0.6500000000000005\n",
      "7000 :  0.6630000000000005\n",
      "8000 :  0.6790000000000005\n",
      "9000 :  0.6800000000000005\n",
      "10000 :  0.6720000000000005\n"
     ]
    }
   ],
   "source": [
    "#After All Episodes complete\n",
    "#Calculate and print the average reward per thousand episodes\n",
    "rewards_per_thousand_episodes = np.split(np.array(rewards_all_episodes),num_episodes//1000)\n",
    "count = 1000\n",
    "\n",
    "print(\"********Average reward per thousand episodes********\\n\")\n",
    "for r in rewards_per_thousand_episodes:\n",
    "    print(count, \": \", str(sum(r/1000)))\n",
    "    count += 1000"
   ]
  },
  {
   "cell_type": "code",
   "execution_count": 12,
   "metadata": {
    "scrolled": false
   },
   "outputs": [
    {
     "name": "stdout",
     "output_type": "stream",
     "text": [
      "  (Down)\n",
      "SFFF\n",
      "FHFH\n",
      "FFFH\n",
      "HFF\u001b[41mG\u001b[0m\n",
      "Goal Reached!\n"
     ]
    }
   ],
   "source": [
    "#Agent Plays a game\n",
    "for episode in range(3):\n",
    "    state = env.reset()\n",
    "    done = False\n",
    "    print(f\"  EPISODE  \", {episode+1},\"\\n\\n\\n\")\n",
    "    time.sleep(1)\n",
    "\n",
    "    for step in range(max_steps_per_episode):\n",
    "        clear_output(wait = True)\n",
    "        env.render()\n",
    "        time.sleep(0.3)\n",
    "\n",
    "        action = np.argmax(q_table[state,:])\n",
    "        new_state, reward, done, info = env.step(action)\n",
    "        if done:\n",
    "            clear_output(wait = True)\n",
    "            env.render()\n",
    "            if reward == 1:\n",
    "                print(\"Goal Reached!\")\n",
    "                time.sleep(3)\n",
    "            else:\n",
    "                print(\"Fell through the Hole\")\n",
    "                time.sleep(3)\n",
    "            clear_output(wait = True)\n",
    "            break\n",
    "        state = new_state\n",
    "env.close()\n",
    "\n",
    "\n",
    "\n",
    "            \n",
    "        "
   ]
  },
  {
   "cell_type": "code",
   "execution_count": 13,
   "metadata": {},
   "outputs": [
    {
     "name": "stdout",
     "output_type": "stream",
     "text": [
      "Updated Q_table\n",
      "[[0.5460029  0.50569908 0.49721488 0.52010591]\n",
      " [0.39821809 0.37491592 0.31487093 0.50198887]\n",
      " [0.41913103 0.39427812 0.40887079 0.45406792]\n",
      " [0.27189729 0.28161037 0.32598263 0.43250466]\n",
      " [0.57625074 0.42028216 0.30637439 0.37377493]\n",
      " [0.         0.         0.         0.        ]\n",
      " [0.17285462 0.19540166 0.35767125 0.13136019]\n",
      " [0.         0.         0.         0.        ]\n",
      " [0.40490916 0.42927755 0.29248408 0.61339724]\n",
      " [0.44893081 0.64081063 0.47324999 0.38166263]\n",
      " [0.58804203 0.49556487 0.39712862 0.3943681 ]\n",
      " [0.         0.         0.         0.        ]\n",
      " [0.         0.         0.         0.        ]\n",
      " [0.46362698 0.4016639  0.75571435 0.42862467]\n",
      " [0.70602968 0.86752954 0.71395524 0.74970005]\n",
      " [0.         0.         0.         0.        ]]\n"
     ]
    }
   ],
   "source": [
    "print(f'Updated Q_table\\n{q_table}') "
   ]
  },
  {
   "cell_type": "code",
   "execution_count": 1,
   "metadata": {},
   "outputs": [],
   "source": [
    "\n"
   ]
  },
  {
   "cell_type": "code",
   "execution_count": 2,
   "metadata": {},
   "outputs": [
    {
     "data": {
      "text/plain": [
       "'/device:GPU:0'"
      ]
     },
     "execution_count": 2,
     "metadata": {},
     "output_type": "execute_result"
    }
   ],
   "source": []
  },
  {
   "cell_type": "code",
   "execution_count": null,
   "metadata": {},
   "outputs": [],
   "source": []
  }
 ],
 "metadata": {
  "kernelspec": {
   "display_name": "gpupower",
   "language": "python",
   "name": "gpupower"
  },
  "language_info": {
   "codemirror_mode": {
    "name": "ipython",
    "version": 3
   },
   "file_extension": ".py",
   "mimetype": "text/x-python",
   "name": "python",
   "nbconvert_exporter": "python",
   "pygments_lexer": "ipython3",
   "version": "3.6.9"
  }
 },
 "nbformat": 4,
 "nbformat_minor": 2
}
